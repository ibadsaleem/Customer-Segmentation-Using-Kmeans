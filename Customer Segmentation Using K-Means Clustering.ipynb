{
 "cells": [
  {
   "cell_type": "code",
   "execution_count": null,
   "id": "0139505d",
   "metadata": {},
   "outputs": [],
   "source": [
    "import numpy as np\n",
    "import pandas as pd \n",
    "import matplotlib.pyplot as plt\n",
    "import seaborn as sns\n",
    "from sklearn.cluster import KMeans"
   ]
  },
  {
   "cell_type": "code",
   "execution_count": null,
   "id": "4572d6a1",
   "metadata": {},
   "outputs": [],
   "source": [
    "mall_dataset= pd.read_csv('Mall_Customers.csv')"
   ]
  },
  {
   "cell_type": "code",
   "execution_count": null,
   "id": "3c22b9df",
   "metadata": {},
   "outputs": [],
   "source": [
    "mall_dataset.head()"
   ]
  },
  {
   "cell_type": "code",
   "execution_count": null,
   "id": "d555f30e",
   "metadata": {},
   "outputs": [],
   "source": [
    "mall_dataset.shape\n"
   ]
  },
  {
   "cell_type": "code",
   "execution_count": null,
   "id": "b8f92921",
   "metadata": {},
   "outputs": [],
   "source": [
    "mall_dataset.info()"
   ]
  },
  {
   "cell_type": "code",
   "execution_count": null,
   "id": "1cb3a0e7",
   "metadata": {},
   "outputs": [],
   "source": [
    "mall_dataset.describe()"
   ]
  },
  {
   "cell_type": "code",
   "execution_count": null,
   "id": "46cd38f7",
   "metadata": {},
   "outputs": [],
   "source": [
    "mall_dataset.isnull().sum()"
   ]
  },
  {
   "cell_type": "code",
   "execution_count": null,
   "id": "7b2cd87e",
   "metadata": {},
   "outputs": [],
   "source": [
    "X= mall_dataset.iloc[:,3:6].values"
   ]
  },
  {
   "cell_type": "code",
   "execution_count": null,
   "id": "9137f5f8",
   "metadata": {},
   "outputs": [],
   "source": [
    "X"
   ]
  },
  {
   "cell_type": "code",
   "execution_count": null,
   "id": "6e6cdd7b",
   "metadata": {},
   "outputs": [],
   "source": [
    "#WCSS - Within Clusters Sum of Squares\n",
    "\n",
    "wcss=[]\n",
    "\n",
    "for i in range(1,11):\n",
    "    kmeans = KMeans(n_clusters=i, init='k-means++',random_state=42)\n",
    "    kmeans.fit(X)\n",
    "    wcss.append(kmeans.inertia_)\n",
    "#     print('Number of Clusters ', i,' WCSS:',wcss)\n",
    "\n",
    "    "
   ]
  },
  {
   "cell_type": "code",
   "execution_count": null,
   "id": "b490ae61",
   "metadata": {},
   "outputs": [],
   "source": [
    "sns.set()"
   ]
  },
  {
   "cell_type": "code",
   "execution_count": null,
   "id": "e3a57b84",
   "metadata": {},
   "outputs": [],
   "source": [
    "plt.plot(range(1,11),wcss)\n",
    "plt.xlabel('Number of Clusters')\n",
    "plt.ylabel('WCSS')\n",
    "plt.title('Elbow Point Graph')\n",
    "plt.show()"
   ]
  },
  {
   "cell_type": "code",
   "execution_count": null,
   "id": "7553b810",
   "metadata": {},
   "outputs": [],
   "source": [
    "# optimal number of clusters = 5 as no sharp drop after clusters = 5\n",
    "kmeans= KMeans(n_clusters=5,init='k-means++',random_state=0)\n",
    "# kmeans.fit(X)\n",
    "Y=kmeans.fit_predict(X)\n"
   ]
  },
  {
   "cell_type": "code",
   "execution_count": null,
   "id": "b84a6ef2",
   "metadata": {},
   "outputs": [],
   "source": [
    "Y"
   ]
  },
  {
   "cell_type": "code",
   "execution_count": null,
   "id": "144c9a38",
   "metadata": {},
   "outputs": [],
   "source": [
    "plt.figure(figsize=(8,8))"
   ]
  },
  {
   "cell_type": "code",
   "execution_count": null,
   "id": "e3fdfd43",
   "metadata": {},
   "outputs": [],
   "source": []
  },
  {
   "cell_type": "code",
   "execution_count": null,
   "id": "6f3e235f",
   "metadata": {},
   "outputs": [],
   "source": [
    "plt.scatter(X[Y==0,0],X[Y==0,1],s=50,c='green',label='Cluster 1')\n",
    "plt.scatter(X[Y==0,0],X[Y==0,1],s=50,c='blue',label='Cluster 2')\n",
    "plt.scatter(X[Y==1,0],X[Y==1,1],s=50,c='red',label='Cluster 3')\n",
    "plt.scatter(X[Y==2,0],X[Y==2,1],s=50,c='black',label='Cluster 4')\n",
    "plt.scatter(X[Y==3,0],X[Y==3,1],s=50,c='yellow',label='Cluster 5')\n",
    "\n",
    "#centroids\n",
    "\n",
    "plt.scatter(kmeans.cluster_centers_[:,0],kmeans.cluster_centers_[:,1],s=110,color='grey',label='centroids')\n",
    "plt.title('Customer Groups')\n",
    "plt.xlabel('Annual Income')\n",
    "plt.ylabel('Spending Score')"
   ]
  }
 ],
 "metadata": {
  "kernelspec": {
   "display_name": "Python 3 (ipykernel)",
   "language": "python",
   "name": "python3"
  },
  "language_info": {
   "codemirror_mode": {
    "name": "ipython",
    "version": 3
   },
   "file_extension": ".py",
   "mimetype": "text/x-python",
   "name": "python",
   "nbconvert_exporter": "python",
   "pygments_lexer": "ipython3",
   "version": "3.10.4"
  }
 },
 "nbformat": 4,
 "nbformat_minor": 5
}
